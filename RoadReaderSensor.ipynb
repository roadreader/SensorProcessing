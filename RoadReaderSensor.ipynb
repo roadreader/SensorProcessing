{
 "cells": [
  {
   "cell_type": "code",
   "execution_count": 6,
   "metadata": {
    "collapsed": true
   },
   "outputs": [],
   "source": [
    "import firebase_admin\n",
    "from firebase_admin import credentials\n",
    "from firebase_admin import firestore\n",
    "import numpy as np\n",
    "import pandas as pd\n",
    "import matplotlib.pyplot as plt\n",
    "import gmaps\n",
    "%matplotlib inline"
   ]
  },
  {
   "cell_type": "code",
   "execution_count": 8,
   "metadata": {},
   "outputs": [
    {
     "ename": "ValueError",
     "evalue": "The default Firebase app already exists. This means you called initialize_app() more than once without providing an app name as the second argument. In most cases you only need to call initialize_app() once. But if you do want to initialize multiple apps, pass a second argument to initialize_app() to give each app a unique name.",
     "output_type": "error",
     "traceback": [
      "\u001b[0;31m---------------------------------------------------------------------------\u001b[0m",
      "\u001b[0;31mValueError\u001b[0m                                Traceback (most recent call last)",
      "\u001b[0;32m<ipython-input-8-9910f35cd8da>\u001b[0m in \u001b[0;36m<module>\u001b[0;34m\u001b[0m\n\u001b[1;32m      1\u001b[0m \u001b[0mcred\u001b[0m \u001b[0;34m=\u001b[0m \u001b[0mcredentials\u001b[0m\u001b[0;34m.\u001b[0m\u001b[0mCertificate\u001b[0m\u001b[0;34m(\u001b[0m\u001b[0;34m\"./rr_firebase.json\"\u001b[0m\u001b[0;34m)\u001b[0m\u001b[0;34m\u001b[0m\u001b[0;34m\u001b[0m\u001b[0m\n\u001b[0;32m----> 2\u001b[0;31m \u001b[0mfirebase_admin\u001b[0m\u001b[0;34m.\u001b[0m\u001b[0minitialize_app\u001b[0m\u001b[0;34m(\u001b[0m\u001b[0mcred\u001b[0m\u001b[0;34m)\u001b[0m\u001b[0;34m\u001b[0m\u001b[0;34m\u001b[0m\u001b[0m\n\u001b[0m\u001b[1;32m      3\u001b[0m \u001b[0mdb\u001b[0m \u001b[0;34m=\u001b[0m \u001b[0mfirestore\u001b[0m\u001b[0;34m.\u001b[0m\u001b[0mclient\u001b[0m\u001b[0;34m(\u001b[0m\u001b[0;34m)\u001b[0m\u001b[0;34m\u001b[0m\u001b[0;34m\u001b[0m\u001b[0m\n",
      "\u001b[0;32m~/anaconda/envs/cogs108/lib/python3.6/site-packages/firebase_admin/__init__.py\u001b[0m in \u001b[0;36minitialize_app\u001b[0;34m(credential, options, name)\u001b[0m\n\u001b[1;32m     72\u001b[0m     \u001b[0;32mif\u001b[0m \u001b[0mname\u001b[0m \u001b[0;34m==\u001b[0m \u001b[0m_DEFAULT_APP_NAME\u001b[0m\u001b[0;34m:\u001b[0m\u001b[0;34m\u001b[0m\u001b[0;34m\u001b[0m\u001b[0m\n\u001b[1;32m     73\u001b[0m         raise ValueError((\n\u001b[0;32m---> 74\u001b[0;31m             \u001b[0;34m'The default Firebase app already exists. This means you called '\u001b[0m\u001b[0;34m\u001b[0m\u001b[0;34m\u001b[0m\u001b[0m\n\u001b[0m\u001b[1;32m     75\u001b[0m             \u001b[0;34m'initialize_app() more than once without providing an app name as '\u001b[0m\u001b[0;34m\u001b[0m\u001b[0;34m\u001b[0m\u001b[0m\n\u001b[1;32m     76\u001b[0m             \u001b[0;34m'the second argument. In most cases you only need to call '\u001b[0m\u001b[0;34m\u001b[0m\u001b[0;34m\u001b[0m\u001b[0m\n",
      "\u001b[0;31mValueError\u001b[0m: The default Firebase app already exists. This means you called initialize_app() more than once without providing an app name as the second argument. In most cases you only need to call initialize_app() once. But if you do want to initialize multiple apps, pass a second argument to initialize_app() to give each app a unique name."
     ]
    }
   ],
   "source": [
    "cred = credentials.Certificate(\"\")\n",
    "firebase_admin.initialize_app(cred)\n",
    "db = firestore.client()"
   ]
  },
  {
   "cell_type": "code",
   "execution_count": 9,
   "metadata": {
    "collapsed": true
   },
   "outputs": [],
   "source": [
    "gmaps.configure(api_key=\"\")"
   ]
  },
  {
   "cell_type": "code",
   "execution_count": 10,
   "metadata": {
    "collapsed": true
   },
   "outputs": [],
   "source": [
    "#test trips\n",
    "a = '9diVV59R5gBA6ELi2r38'\n",
    "b = 'qgEdSjVaYqvDVzz1OvVB'"
   ]
  },
  {
   "cell_type": "code",
   "execution_count": 11,
   "metadata": {},
   "outputs": [
    {
     "name": "stderr",
     "output_type": "stream",
     "text": [
      "/Users/chadlohrli/anaconda/envs/cogs108/lib/python3.6/site-packages/ipykernel_launcher.py:2: DeprecationWarning: 'Collection.get' is deprecated:  please use 'Collection.stream' instead.\n",
      "  \n"
     ]
    }
   ],
   "source": [
    "doc_ref = db.collection(u'trips')\n",
    "doc = doc_ref.get()\n",
    "for d in doc:\n",
    "    data = d.to_dict()\n",
    "data = data['gpsPoints']"
   ]
  },
  {
   "cell_type": "code",
   "execution_count": 12,
   "metadata": {
    "collapsed": true
   },
   "outputs": [],
   "source": [
    "doc_ref = db.collection(u'trips').document(b).get()\n",
    "data = doc_ref.to_dict()\n",
    "data = data['gpsPoints']"
   ]
  },
  {
   "cell_type": "code",
   "execution_count": 13,
   "metadata": {
    "collapsed": true
   },
   "outputs": [],
   "source": [
    "processed = []\n",
    "lat_lng = []\n",
    "wts = []\n",
    "\n",
    "axis = ['ax','ay','az','gx','gy','gz']\n",
    "\n",
    "for i in range(len(data)):\n",
    "    point = {}\n",
    "    point['lat'] = data[i]['lat']\n",
    "    point['long'] = data[i]['long']\n",
    "    \n",
    "    lat_lng.append([data[i]['lat'],data[i]['long']])\n",
    "    \n",
    "    weight = 0\n",
    "    for j in axis:\n",
    "        weight += np.mean(data[i]['sensorData'][j])\n",
    "        \n",
    "    wts.append(weight)\n",
    "    point['weight'] = weight\n",
    "    processed.append(point)\n",
    "    "
   ]
  },
  {
   "cell_type": "code",
   "execution_count": 14,
   "metadata": {},
   "outputs": [
    {
     "data": {
      "application/vnd.jupyter.widget-view+json": {
       "model_id": "c6e035807ddb40279e82d9b66b4973f4",
       "version_major": 2,
       "version_minor": 0
      },
      "text/plain": [
       "Figure(layout=FigureLayout(height='420px'))"
      ]
     },
     "metadata": {},
     "output_type": "display_data"
    }
   ],
   "source": [
    "fig = gmaps.figure()\n",
    "heatmap_layer = gmaps.heatmap_layer(lat_lng,weights=np.abs(wts))\n",
    "trip = gmaps.directions_layer(lat_lng[0], lat_lng[len(lat_lng)-1],show_markers=False,stroke_weight=4.0, stroke_opacity=0.2)\n",
    "fig.add_layer(trip)\n",
    "fig.add_layer(heatmap_layer)\n",
    "fig"
   ]
  },
  {
   "cell_type": "code",
   "execution_count": 17,
   "metadata": {},
   "outputs": [
    {
     "data": {
      "text/plain": [
       "[{'lat': 32.82675254, 'long': -117.27735639, 'weight': 12.146407537177055},\n",
       " {'lat': 32.82674874, 'long': -117.27741415, 'weight': 13.052515059251052},\n",
       " {'lat': 32.82673562, 'long': -117.27741914, 'weight': 11.941753211388223},\n",
       " {'lat': 32.82674824, 'long': -117.27740349, 'weight': 11.902992952786958},\n",
       " {'lat': 32.82676555, 'long': -117.27742809, 'weight': 11.86744656352877},\n",
       " {'lat': 32.82675804, 'long': -117.27742829, 'weight': 11.173018235426682},\n",
       " {'lat': 32.82675264, 'long': -117.27744943, 'weight': 11.182529918964093},\n",
       " {'lat': 32.82673787, 'long': -117.27745764, 'weight': 12.096490190613945},\n",
       " {'lat': 32.82672419, 'long': -117.27746207, 'weight': 6.560115618583483},\n",
       " {'lat': 32.82668935, 'long': -117.2774731, 'weight': -8.263975407527042},\n",
       " {'lat': 32.82664631, 'long': -117.27745575, 'weight': -7.92962485259434},\n",
       " {'lat': 32.82659825, 'long': -117.27743302, 'weight': -0.5763674754016804},\n",
       " {'lat': 32.82657078, 'long': -117.27744461, 'weight': 6.408076806161918},\n",
       " {'lat': 32.82654525, 'long': -117.27745054, 'weight': 9.735223623422478},\n",
       " {'lat': 32.82653419, 'long': -117.2774477, 'weight': 9.025584555571935},\n",
       " {'lat': 32.82652515, 'long': -117.27744429, 'weight': 11.577148672250601},\n",
       " {'lat': 32.82651492, 'long': -117.27743789, 'weight': 11.765370471660907},\n",
       " {'lat': 32.82650535, 'long': -117.27743401, 'weight': 12.061184289320463},\n",
       " {'lat': 32.82649573, 'long': -117.27743147, 'weight': 12.077901928241436},\n",
       " {'lat': 32.82647748, 'long': -117.27742787, 'weight': 6.848387808169958},\n",
       " {'lat': 32.82644248, 'long': -117.27742103, 'weight': 12.033340864915113},\n",
       " {'lat': 32.82635767, 'long': -117.2774134, 'weight': 11.223849277870327},\n",
       " {'lat': 32.826306, 'long': -117.27740741, 'weight': 10.891107064706308},\n",
       " {'lat': 32.8262462, 'long': -117.27739271, 'weight': 10.559216249906099},\n",
       " {'lat': 32.82619088, 'long': -117.27738342, 'weight': -7.317308220496545},\n",
       " {'lat': 32.82612768, 'long': -117.27737989, 'weight': -7.064565120599208},\n",
       " {'lat': 32.82606738, 'long': -117.27736766, 'weight': 11.68531085320239},\n",
       " {'lat': 32.82599803, 'long': -117.27734176, 'weight': 11.837948953880456},\n",
       " {'lat': 32.82593164, 'long': -117.27733228, 'weight': 9.850864762526292},\n",
       " {'lat': 32.82586867, 'long': -117.27731721, 'weight': 10.668367434770632},\n",
       " {'lat': 32.8258056, 'long': -117.2773026, 'weight': 11.112190305269683},\n",
       " {'lat': 32.8257431, 'long': -117.27728499, 'weight': 11.429175380490861},\n",
       " {'lat': 32.82568264, 'long': -117.2772677, 'weight': 11.501257727281104},\n",
       " {'lat': 32.82562305, 'long': -117.27724615, 'weight': 0.5338682517027237},\n",
       " {'lat': 32.8255579, 'long': -117.27722053, 'weight': 1.2940516633807493},\n",
       " {'lat': 32.82549877, 'long': -117.27720456, 'weight': 11.838795940692606},\n",
       " {'lat': 32.82545484, 'long': -117.27719106, 'weight': 12.267192253699669},\n",
       " {'lat': 32.82543833, 'long': -117.2771839, 'weight': 12.327418834758257}]"
      ]
     },
     "execution_count": 17,
     "metadata": {},
     "output_type": "execute_result"
    }
   ],
   "source": [
    "processed"
   ]
  },
  {
   "cell_type": "code",
   "execution_count": null,
   "metadata": {
    "collapsed": true
   },
   "outputs": [],
   "source": []
  }
 ],
 "metadata": {
  "kernelspec": {
   "display_name": "Python 3",
   "language": "python",
   "name": "python3"
  },
  "language_info": {
   "codemirror_mode": {
    "name": "ipython",
    "version": 3
   },
   "file_extension": ".py",
   "mimetype": "text/x-python",
   "name": "python",
   "nbconvert_exporter": "python",
   "pygments_lexer": "ipython3",
   "version": "3.6.8"
  }
 },
 "nbformat": 4,
 "nbformat_minor": 2
}
